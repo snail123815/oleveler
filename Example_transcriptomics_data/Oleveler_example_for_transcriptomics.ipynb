{
 "cells": [
  {
   "cell_type": "markdown",
   "metadata": {},
   "source": [
    "# Oleveler example for transcriptomics data analysis"
   ]
  },
  {
   "cell_type": "markdown",
   "metadata": {},
   "source": [
    "### General module import"
   ]
  },
  {
   "cell_type": "code",
   "execution_count": null,
   "metadata": {
    "tags": []
   },
   "outputs": [],
   "source": [
    "%load_ext autoreload\n",
    "%autoreload 2\n",
    "try:\n",
    "    from oleveler import *\n",
    "except:\n",
    "    import os\n",
    "    os.symlink('../oleveler.py', 'oleveler.py')\n",
    "    from oleveler import *\n",
    "\n",
    "# # For interactive plots (PCA, PLS, Loading, volcano), the plots will not be saved if you export this notebook.\n",
    "# %matplotlib widget\n",
    "\n",
    "# # For exproting this notebook with plots to HTML\n",
    "%matplotlib inline\n",
    "\n",
    "# # You can change plotting style to dark or white using these functions\n",
    "# setDarkModePlotting(forceDark=True)\n",
    "# setDarkModePlotting(forceWhite=True)\n",
    "\n",
    "# # Logging level: INFO = more text shown; WARNING = less text. All INFO level message are anyway stored in the dataProcessing.log file.\n",
    "logshandler.setLevel(logging.INFO)\n",
    "# logshandler.setLevel(logging.WARNING)"
   ]
  },
  {
   "cell_type": "markdown",
   "metadata": {},
   "source": [
    "## Data processing\n",
    "\n",
    "Note the file/folder path is the parameters of the function, please change accroding to your file/folder name."
   ]
  },
  {
   "cell_type": "code",
   "execution_count": null,
   "metadata": {},
   "outputs": [],
   "source": [
    "# Load data\n",
    "selfAlignCt = gatherCountTable(\"featureCounts/\")\n",
    "saDf = calculateTPM(selfAlignCt, 'featureCounts/GCF_000203835.1_ASM20383v1_genomic.gff', \n",
    "                    tagsForGeneName='locus_tag', removerRNA=True, removeIDcontains=['SCP'])\n",
    "\n",
    "# Load meta\n",
    "metaDf, conditions, experiments = loadMeta('Annotation.csv')\n",
    "\n",
    "# Calculate mean and var\n",
    "meanDf, nquantDf, varDf, stdDf, semDf = getStats(saDf, experiments)\n",
    "\n",
    "# Transformation vst using DESeq2\n",
    "# https://bioconductor.org/packages/release/bioc/vignettes/DESeq2/inst/doc/DESeq2.html#data-transformations-and-visualization\n",
    "vstDf = deseq2Process(selfAlignCt, metaDf, ref='WT_45')\n",
    "# Calculate mean and var\n",
    "# These data should only be used in plotting, principal analysis, or other stastistical analyses.\n",
    "vstMeanDf, vstNquantDf, vstVarDf, vstStdDf, vstSemDf = getStats(vstDf, experiments, title='vst')"
   ]
  },
  {
   "cell_type": "markdown",
   "metadata": {},
   "source": [
    "### DESeq2 different expression analysis"
   ]
  },
  {
   "cell_type": "code",
   "execution_count": null,
   "metadata": {},
   "outputs": [],
   "source": [
    "# Differential expression analysis\n",
    "# https://bioconductor.org/packages/release/bioc/vignettes/DESeq2/inst/doc/DESeq2.html#differential-expression-analysis\n",
    "deseq2CompResults, comparisons = makeCompMatrixDeseq2('comparisons.xlsx', \n",
    "                                                      selfAlignCt,\n",
    "                                                      'annotation.csv',\n",
    "                                                      shrink=None)"
   ]
  },
  {
   "cell_type": "code",
   "execution_count": null,
   "metadata": {},
   "outputs": [],
   "source": [
    "# Differential expression analysis with log fold change shrinkage for visualization and ranking\n",
    "# https://bioconductor.org/packages/release/bioc/vignettes/DESeq2/inst/doc/DESeq2.html#log-fold-change-shrinkage-for-visualization-and-ranking\n",
    "deseq2CompResultsShrink, comparisons = makeCompMatrixDeseq2('comparisons.xlsx', \n",
    "                                                            selfAlignCt,\n",
    "                                                            'annotation.csv',\n",
    "                                                            shrink='lfcShrink')"
   ]
  },
  {
   "cell_type": "markdown",
   "metadata": {},
   "source": [
    "## General analysis"
   ]
  },
  {
   "cell_type": "markdown",
   "metadata": {},
   "source": [
    "### Principal components analysis (PCA)\n",
    "\n",
    "Unsupervised data reduction."
   ]
  },
  {
   "cell_type": "code",
   "execution_count": null,
   "metadata": {},
   "outputs": [],
   "source": [
    "# I have a gene knockout in the mutant, so it is slightly better if I remove data of this gene before analysis\n",
    "newVstDf = vstDf[vstDf.index != 'SCO1839']\n",
    "\n",
    "# Do a PCA plot\n",
    "PcaClass_vst = plotPrincipleAnalysis(newVstDf, colourSet=genColour(vstDf.columns), figsize=(7,6),\n",
    "                                     title='VST df (no gbn)', analysisType='PCA')\n",
    "# Get some info about the PCA result just generated\n",
    "plotPCAExplanation(PcaClass_vst)\n",
    "\n",
    "# Loading plot of the same PCA. Note the loading plot function do not dependent on the PCA result before.\n",
    "plotPrincipleAnalysisLoading(newVstDf, drawOutliers=True, outlierAlg=0, outliersFraction=0.05, title='VST df (no gbn)')"
   ]
  },
  {
   "cell_type": "markdown",
   "metadata": {},
   "source": [
    "You can also customise data for any analysis on the fly. eg. Use only part of the data by constraining the columns of the data table."
   ]
  },
  {
   "cell_type": "code",
   "execution_count": null,
   "metadata": {},
   "outputs": [],
   "source": [
    "cols = [\n",
    "    'C24_1', 'C24_2', 'C24_3', \n",
    "#     'C45_1', 'C45_2', 'C45_3', \n",
    "    'D24_1', 'D24_2', 'D24_3', \n",
    "#     'D45_1', 'D45_2', 'D45_3',\n",
    "]\n",
    "plotPrincipleAnalysis(newVstDf, cols=cols, title='VST 24h only', colourSet=genColour(cols))"
   ]
  },
  {
   "cell_type": "markdown",
   "metadata": {},
   "source": [
    "### Partial least squares regression (PLS regression)\n",
    "\n",
    "Supervised data reduction."
   ]
  },
  {
   "cell_type": "code",
   "execution_count": null,
   "metadata": {},
   "outputs": [],
   "source": [
    "# First make a class table based on your data. Describe your conditions in numbers.\n",
    "# In this example, the first column (0 and 2) indicates wild type and mutant (strains),\n",
    "# the second column (24 and 45) indicates time after inoculation. You can use numbers with\n",
    "# larger difference to give specific element higher impact.\n",
    "plsClasses = [\n",
    "              [0,24],\n",
    "              [0,24],\n",
    "              [0,24],\n",
    "              [0,45],\n",
    "              [0,45],\n",
    "              [0,45],\n",
    "              [2,24],\n",
    "              [2,24],\n",
    "              [2,24],\n",
    "              [2,45],\n",
    "              [2,45],\n",
    "              [2,45],\n",
    "]\n",
    "\n",
    "# Do PLS and plot. analysisType='PLS'\n",
    "PlsClass_vst = plotPrincipleAnalysis(vstDf,\n",
    "                                     colourSet=genColour(vstDf.columns),\n",
    "                                     title='VST df', analysisType='PLS', plsClasses=plsClasses)\n",
    "\n",
    "# V plot of PLS showing the importance of each genes contributing to the seperation.\n",
    "plotPlsVplot(newVstDf, classes=plsClasses, title='VST', outlierAlg=1)"
   ]
  },
  {
   "cell_type": "markdown",
   "metadata": {
    "tags": []
   },
   "source": [
    "PLS for part of the data is also doable."
   ]
  },
  {
   "cell_type": "code",
   "execution_count": null,
   "metadata": {},
   "outputs": [],
   "source": [
    "# Simply comment out the non-required data from both classes info and columns of data frame.\n",
    "plsClasses = [\n",
    "              [0,24],\n",
    "              [0,24],\n",
    "              [0,24],\n",
    "#               [0,45],\n",
    "#               [0,45],\n",
    "#               [0,45],\n",
    "              [2,24],\n",
    "              [2,24],\n",
    "              [2,24],\n",
    "#               [2,45],\n",
    "#               [2,45],\n",
    "#               [2,45],\n",
    "]\n",
    "cols = [\n",
    "    'C24_1', 'C24_2', 'C24_3', \n",
    "#     'C45_1', 'C45_2', 'C45_3', \n",
    "    'D24_1', 'D24_2', 'D24_3', \n",
    "#     'D45_1', 'D45_2', 'D45_3',\n",
    "]\n",
    "PlsClass_vst = plotPrincipleAnalysis(newVstDf,cols=cols, colourSet=genColour(vstDf.columns),\n",
    "                                     title='VST 24h only', analysisType='PLS', plsClasses=plsClasses)"
   ]
  },
  {
   "cell_type": "markdown",
   "metadata": {},
   "source": [
    "### Correlation plot"
   ]
  },
  {
   "cell_type": "code",
   "execution_count": null,
   "metadata": {},
   "outputs": [],
   "source": [
    "plotCorr(vstDf, cols=[c for c in vstDf if c!='QC'], vmin=0.8)"
   ]
  },
  {
   "cell_type": "markdown",
   "metadata": {},
   "source": [
    "### Volcano plot for each comparison"
   ]
  },
  {
   "cell_type": "code",
   "execution_count": null,
   "metadata": {},
   "outputs": [],
   "source": [
    "# First let us see how many comparison pairs are stored in the comparison results\n",
    "comparisons"
   ]
  },
  {
   "cell_type": "markdown",
   "metadata": {},
   "source": [
    "It is possible to highlight selected genes in the volcano plot."
   ]
  },
  {
   "cell_type": "code",
   "execution_count": null,
   "metadata": {},
   "outputs": [],
   "source": [
    "# for c in comparisons:\n",
    "for c in ['mu_wt24']:\n",
    "    cols = metaDf[(metaDf.Condition==comparisons[c]['exp']) | \\\n",
    "                  (metaDf.Condition==comparisons[c]['ctr'])].Experiment.values\n",
    "    plotVolcano(deseq2CompResultsShrink[c],\n",
    "                # Second argument is data used for the size of each point on the plot. This is optional.\n",
    "                # If not provided, it will try to use the \"mean\" column from comparison result.\n",
    "                vstDf[cols].mean(axis=1), \n",
    "                xmax = 6, ymax=80,\n",
    "                # Highlight is achieved by passing an OrderedDict (or Dict), list of lists to this highlights parameter\n",
    "                highlights=OrderedDict([\n",
    "                    ('GlnR regulon' , ['SCO2198', # glnA\n",
    "                            'SCO5583', 'SCO5584', 'SCO5585', # amtB, glnK, glnD\n",
    "                            'SCO2210', # glnII\n",
    "                            'SCO4683', # gdhA\n",
    "                            'SCO2486','SCO2487', 'SCO2488', # nirB_a, nirB_b, nirCD\n",
    "                            'SCO1236', 'SCO1235', 'SCO1234', 'SCO1233',# ureA, B, C, F\n",
    "                            'SCO0255', 'SCO0888', 'SCO2400', 'SCO2404', 'SCO1863', 'SCO2195', 'SCO7155'\n",
    "                           ]),\n",
    "                    (r'$act$',[f'SCO{i}' for i in range(5071, 5093)]), # Latex syntex is supported in the name\n",
    "                    (r'$nuo$JKLMN', [f'SCO{i}' for i in range(4571, 4576)]),\n",
    "                    (r'$nuo2$'  ,[f'SCO{i}' for i in range(4599, 4609)]),\n",
    "                    (r\"$bxl$AEFG\", [f'SCO{i}' for i in range(7028,7032)]),\n",
    "                    (\"carboxylesterase related\", [f'SCO0{i}' for i in range(319,322)]),\n",
    "                    (\"SoxR regulon\", ['SCO4265', 'SCO4266','SCO2477','SCO2478', 'SCO7008', 'SCO1909', 'SCO1178']),\n",
    "                    ('Possible HGT cluster',[f'SCO{i}' for i in range(4615, 4628)]),\n",
    "                ]),\n",
    "                figsize=(7,7),\n",
    "                title=f'shrink_comp_result_{c}')"
   ]
  },
  {
   "cell_type": "code",
   "execution_count": null,
   "metadata": {},
   "outputs": [],
   "source": [
    "for c in ['mu_wt45']:\n",
    "    cols = metaDf[(metaDf.Condition==comparisons[c]['exp']) | \\\n",
    "                  (metaDf.Condition==comparisons[c]['ctr'])].Experiment.values\n",
    "    plotVolcano(deseq2CompResultsShrink[c], \n",
    "                vstDf[cols].mean(axis=1), \n",
    "                highlights=OrderedDict([\n",
    "                    ('GlnR regulon' , ['SCO2198', # glnA\n",
    "                            'SCO5583', 'SCO5584', 'SCO5585', # amtB, glnK, glnD\n",
    "                            'SCO2210', # glnII\n",
    "                            'SCO4683', # gdhA\n",
    "                            'SCO2486','SCO2487', 'SCO2488', # nirB_a, nirB_b, nirCD\n",
    "                            'SCO1236', 'SCO1235', 'SCO1234', 'SCO1233',# ureA, B, C, F\n",
    "                            'SCO0255', 'SCO0888', 'SCO2400', 'SCO2404', 'SCO1863', 'SCO2195', 'SCO7155'\n",
    "                           ]),\n",
    "                    (r'$act$',[f'SCO{i}' for i in range(5071, 5093)]),\n",
    "                    (r'$nuo$JKLMN', [f'SCO{i}' for i in range(4571, 4576)]),\n",
    "                    (r'$nuo2$'  ,[f'SCO{i}' for i in range(4599, 4609)]),\n",
    "                    (r\"$bxl$AEFG\", [f'SCO{i}' for i in range(7028,7032)]),\n",
    "                    (\"carboxylesterase related\", [f'SCO0{i}' for i in range(319,322)]),\n",
    "                    (\"SoxR regulon\", ['SCO4265', 'SCO4266','SCO2477','SCO2478', 'SCO7008', 'SCO1909', 'SCO1178']),\n",
    "                    ('Possible HGT cluster',[f'SCO{i}' for i in range(4615, 4628)]),\n",
    "#                     ('Nit' ,[f'SCO{i}' for i in range(5583, 5586)]),\n",
    "#                     ('Nir' ,[f'SCO{i}' for i in range(2486, 2489)]),\n",
    "#                     ('pGlnr' , ['SCO2471', 'SCO2472', 'SCO2473']),\n",
    "#                     ('Act',[f'SCO{i}' for i in range(5071, 5093)]),\n",
    "#                     ('red',[f'SCO{i}' for i in range(5877, 5899)]),\n",
    "#                     ('cpk',[f'SCO{i}' for i in range(6273, 6289)]),\n",
    "#                     ('whi',[f'SCO{i}' for i in [3034,4543,4767,5621,6029,1950,5314,5315,5316,5317,5318,5319,5320,5321,5819]]),\n",
    "#                     ('bld',[f'SCO{i}' for i in [1489,3323,3549,4091,4768,5112,5113,5114,5115,5116,5723,2792]])\n",
    "                ]),\n",
    "                figsize=(7,7),\n",
    "                xmax = 6, ymax=160,\n",
    "                title=f'shrink_comp_result_{c}')"
   ]
  },
  {
   "cell_type": "markdown",
   "metadata": {},
   "source": [
    "### Expression profile clustering (co-expression analysis)\n",
    "\n",
    "Heat map and expression profile of each cluster."
   ]
  },
  {
   "cell_type": "code",
   "execution_count": null,
   "metadata": {
    "tags": []
   },
   "outputs": [],
   "source": [
    "# First get the desired data set: for this project,\n",
    "# I select to cluster the genes that significantly changed\n",
    "# in the comparison between mutant and wild type at 45 hours.\n",
    "sigDf = getSig(deseq2CompResultsShrink['mu_wt45'], tPv=0.01)\n",
    "\n",
    "# use all data\n",
    "cols = ['C24_1', 'C24_2', 'C24_3', 'C45_1', 'C45_2', 'C45_3',\n",
    "        'D24_1', 'D24_2', 'D24_3', 'D45_1', 'D45_2', 'D45_3']\n",
    "\n",
    "cluster, fname = plotHeatmapGetCluster(vstDf, sigDf.index, cols,\n",
    "                                       nCluster=20,\n",
    "                                       saveFig=True,\n",
    "                                       ylabels=\"AUTO\",\n",
    "                                       standard_scale='row',\n",
    "                                       plot=True, title='sig_mu_wt45')"
   ]
  },
  {
   "cell_type": "code",
   "execution_count": null,
   "metadata": {},
   "outputs": [],
   "source": [
    "plotCluster(cluster, fname,\n",
    "            saveFig=True,\n",
    "            conditions = [['C24_1', 'C24_2', 'C24_3', 'C45_1', 'C45_2', 'C45_3'],\n",
    "                          ['D24_1', 'D24_2', 'D24_3', 'D45_1', 'D45_2', 'D45_3']],\n",
    "            dataLabels = ['WT', 'Mut'],\n",
    "            xlabels = ['24_1', '24_2', '24_3', '45_1', '45_2', '45_3'],\n",
    "            longWide='long',\n",
    "            xlabelRotation=45)"
   ]
  },
  {
   "cell_type": "markdown",
   "metadata": {},
   "source": [
    "You can also choose to plot only interesting clusters:"
   ]
  },
  {
   "cell_type": "code",
   "execution_count": null,
   "metadata": {},
   "outputs": [],
   "source": [
    "plotCluster(cluster, fname,\n",
    "            saveFig=True,\n",
    "            clusters=[1,14,11,18,19],\n",
    "            conditions = [['C24_1', 'C24_2', 'C24_3', 'C45_1', 'C45_2', 'C45_3'],\n",
    "                          ['D24_1', 'D24_2', 'D24_3', 'D45_1', 'D45_2', 'D45_3']],\n",
    "            dataLabels = ['WT', 'Mut'],\n",
    "            xlabels = ['24_1', '24_2', '24_3', '45_1', '45_2', '45_3'],\n",
    "            longWide='long',\n",
    "            xlabelRotation=45)"
   ]
  },
  {
   "cell_type": "markdown",
   "metadata": {},
   "source": [
    "## Query genes"
   ]
  },
  {
   "cell_type": "markdown",
   "metadata": {},
   "source": [
    "### Many genes and many conditions"
   ]
  },
  {
   "cell_type": "code",
   "execution_count": null,
   "metadata": {},
   "outputs": [],
   "source": [
    "queryGenes = ['SCO1839', 'SCO4117']\n",
    "\n",
    "queryConditions = ['Dgbn_24', 'Dgbn_45', 'WT_24', 'WT_45'  ]\n",
    "query(meanDf, semDf, queryGenes, queryConditions, \n",
    "      xlabels=[r'${\\Delta}gbn$ 24h', r'${\\Delta}gbn$ 45h', \n",
    "               'WT 24h',            'WT 45h'  ],\n",
    "      xlabelRotation=30, plotType='bar')\n",
    "      # xlabelRotation=30, plotType='line fill')\n",
    "      # xlabelRotation=30, plotType='line bar')\n",
    "\n",
    "query(meanDf, semDf, queryGenes, queryConditions, \n",
    "      xlabels=[r'${\\Delta}gbn$ 24h', r'${\\Delta}gbn$ 45h', \n",
    "               'WT 24h',            'WT 45h'  ],\n",
    "      # xlabelRotation=30, plotType='bar')\n",
    "      xlabelRotation=30, plotType='line fill')\n",
    "      # xlabelRotation=30, plotType='line bar')\n",
    "\n",
    "query(meanDf, semDf, queryGenes, queryConditions, \n",
    "      xlabels=[r'${\\Delta}gbn$ 24h', r'${\\Delta}gbn$ 45h', \n",
    "               'WT 24h',            'WT 45h'  ],\n",
    "      # xlabelRotation=30, plotType='bar')\n",
    "      # xlabelRotation=30, plotType='line fill')\n",
    "      xlabelRotation=30, plotType='line bar')\n"
   ]
  },
  {
   "cell_type": "markdown",
   "metadata": {},
   "source": [
    "If you have a series of genes to query"
   ]
  },
  {
   "cell_type": "code",
   "execution_count": null,
   "metadata": {},
   "outputs": [],
   "source": [
    "soxRRegulon = ['SCO4265', 'SCO4266','SCO2477','SCO2478', 'SCO7008', 'SCO1909', 'SCO1178']\n",
    "queryConditions = ['Dgbn_24', 'Dgbn_45',   'WT_24', 'WT_45'  ]\n",
    "query(meanDf, semDf, soxRRegulon, queryConditions, \n",
    "      xlabels=[r'${\\Delta}gbn$ 24h', r'${\\Delta}gbn$ 45h', \n",
    "               'WT 24h',            'WT 45h'  ],\n",
    "      xlabelRotation=30, plotType='bar')\n",
    "#       xlabelRotation=30, plotType='line fill')\n",
    "#       xlabelRotation=30, plotType='line bar')\n"
   ]
  },
  {
   "cell_type": "markdown",
   "metadata": {},
   "source": [
    "### Single gene, reduce one factor (eg. combine strains)"
   ]
  },
  {
   "cell_type": "code",
   "execution_count": null,
   "metadata": {},
   "outputs": [],
   "source": [
    "# Crystal structure of the solute-binding protein \n",
    "# BxlE from Streptomyces thermoviolaceus OPC-520 complexed with xylobiose\n",
    "queryGenes = 'SCO7028'\n",
    "\n",
    "# Put the conditions you want to put together in the same column\n",
    "queryConditions = [['Dgbn_24','Dgbn_45'],\n",
    "                   ['WT_24',  'WT_45'  ]]\n",
    "query(meanDf, semDf, queryGenes,\n",
    "      queryConditions,\n",
    "      queryConditionGroupNames=[[r'M145${\\Delta}gbn$','M145'],[24,45]],\n",
    "      xlabelRotation=30,\n",
    "      plotType='bar')\n",
    "      # plotType='line fill')\n",
    "      # plotType='line bar')\n",
    "\n",
    "query(meanDf, semDf, queryGenes,\n",
    "      queryConditions,\n",
    "      queryConditionGroupNames=[[r'M145${\\Delta}gbn$','M145'],[24,45]],\n",
    "      xlabelRotation=30,\n",
    "      plotType='line fill')\n",
    "      # plotType='line bar')\n",
    "\n",
    "query(meanDf, semDf, queryGenes,\n",
    "      queryConditions,\n",
    "      queryConditionGroupNames=[[r'M145${\\Delta}gbn$','M145'],[24,45]],\n",
    "      xlabelRotation=30,\n",
    "      # plotType='line fill')\n",
    "      plotType='line bar')"
   ]
  },
  {
   "cell_type": "markdown",
   "metadata": {},
   "source": [
    "It is also possible to use only part of the conditions. eg. the gene SCO1839 has been knocked out in the mutant, so it is not necessary to show its expression."
   ]
  },
  {
   "cell_type": "code",
   "execution_count": null,
   "metadata": {},
   "outputs": [],
   "source": [
    "queryConditions = ['WT_24', 'WT_45'  ]\n",
    "query(meanDf, semDf, 'SCO1839', queryConditions, \n",
    "      xlabels=['WT 24h', 'WT 45h'],\n",
    "      figsize=(4, 4),\n",
    "      plotType='bar', square=True,\n",
    "      width=0.2,\n",
    "     )\n",
    "#       xlabelRotation=30, plotType='line fill')\n",
    "#       xlabelRotation=30, plotType='line bar')\n"
   ]
  },
  {
   "cell_type": "markdown",
   "metadata": {},
   "source": [
    "---"
   ]
  },
  {
   "cell_type": "markdown",
   "metadata": {},
   "source": [
    "## Export R session infomation (package versions etc.)"
   ]
  },
  {
   "cell_type": "code",
   "execution_count": null,
   "metadata": {},
   "outputs": [],
   "source": [
    "writeRSessionInfo('RSessionInfo.txt', overwrite=False)"
   ]
  }
 ],
 "metadata": {
  "kernelspec": {
   "display_name": "Python 3 (ipykernel)",
   "language": "python",
   "name": "python3"
  },
  "language_info": {
   "codemirror_mode": {
    "name": "ipython",
    "version": 3
   },
   "file_extension": ".py",
   "mimetype": "text/x-python",
   "name": "python",
   "nbconvert_exporter": "python",
   "pygments_lexer": "ipython3",
   "version": "3.10.4"
  },
  "toc-showmarkdowntxt": false,
  "widgets": {
   "application/vnd.jupyter.widget-state+json": {
    "state": {},
    "version_major": 2,
    "version_minor": 0
   }
  }
 },
 "nbformat": 4,
 "nbformat_minor": 4
}
